{
  "nbformat": 4,
  "nbformat_minor": 0,
  "metadata": {
    "colab": {
      "provenance": []
    },
    "kernelspec": {
      "name": "python3",
      "display_name": "Python 3"
    },
    "language_info": {
      "name": "python"
    }
  },
  "cells": [
    {
      "cell_type": "markdown",
      "source": [
        "# Python OOPs Questions"
      ],
      "metadata": {
        "id": "XuH6iygbfTXz"
      }
    },
    {
      "cell_type": "markdown",
      "source": [
        "1. What is Object-Oriented Programming (OOP)\n",
        "  - Object-Oriented Programming or OOPs refers to languages that use objects in programming. Object-oriented programming aims to implement real-world entities like inheritance, hiding, polymorphism, etc in programming. The main aim of OOP is to bind together the data and the functions that operate on them so that no other part of the code can access this data except that function.\n",
        "  - OOPs Concepts:\n",
        "    - Class\n",
        "    - Objects\n",
        "    - Data Abstraction\n",
        "    - Encapsulation\n",
        "    - Inheritance\n",
        "    - Polymorphism\n",
        "    - Dynamic Binding\n",
        "    - Message Passing\n"
      ],
      "metadata": {
        "id": "QWzrZLKfCTHQ"
      }
    },
    {
      "cell_type": "markdown",
      "source": [
        "2. What is a class in OOP?\n",
        "  - A class is a user-defined data type. It consists of data members and member functions, which can be accessed and used by creating an instance of that class. It represents the set of properties or methods that are common to all objects of one type. A class is like a blueprint for an object.  \n",
        "\n",
        "  - For Example: Consider the Class of Cars. There may be many cars with different names and brands but all of them will share some common properties like all of them will have 4 wheels, Speed Limit, Mileage range, etc. So here, Car is the class, and wheels, speed limits, mileage are their properties."
      ],
      "metadata": {
        "id": "Fz-zC_UrHiCF"
      }
    },
    {
      "cell_type": "markdown",
      "source": [
        "3. What is an object in OOP?\n",
        "  - It is a basic unit of Object-Oriented Programming and represents the real-life entities. An Object is an instance of a Class. When a class is defined, no memory is allocated but when it is instantiated (i.e. an object is created) memory is allocated.\n",
        "  -  An object has an identity, state, and behavior. Each object contains data and code to manipulate the data. Objects can interact without having to know details of each other’s data or code, it is sufficient to know the type of message accepted and type of response returned by the objects.\n",
        "  - For example “Dog” is a real-life Object, which has some characteristics like color, Breed, Bark, Sleep, and Eats."
      ],
      "metadata": {
        "id": "N5Can53TQvAK"
      }
    },
    {
      "cell_type": "markdown",
      "source": [
        "4. What is the difference between abstraction and encapsulation?\n",
        "  - **Abstraction**\n",
        "    - Abstraction is the process of hiding implementation details and showing only the essential features to the user.\n",
        "    - It Focus What a class does (behavior), not how it does it.\n",
        "    - In python achieved using abstract classes and interfaces (via the abc module).\n",
        "    - Example: You define methods that must be implemented in child classes, but you don’t specify how they are implemented."
      ],
      "metadata": {
        "id": "AgnXhWHZhqqv"
      }
    },
    {
      "cell_type": "code",
      "source": [
        "from abc import ABC, abstractmethod\n",
        "\n",
        "class Vehicle(ABC):     # Abstract Class\n",
        "    @abstractmethod\n",
        "    def start(self):    # Abstract Method\n",
        "        pass\n",
        "\n",
        "class Car(Vehicle):\n",
        "    def start(self):\n",
        "        print(\"Car starts with a key\")\n",
        "\n",
        "class Bike(Vehicle):\n",
        "    def start(self):\n",
        "        print(\"Bike starts with a self-start button\")\n",
        "\n",
        "# Usage\n",
        "v = Car()\n",
        "v.start()   # Car starts with a key\n",
        "\n",
        "#Here, Vehicle gives only the idea (“every vehicle must start”), but hides the implementation."
      ],
      "metadata": {
        "colab": {
          "base_uri": "https://localhost:8080/"
        },
        "id": "IrRN6q5amUUz",
        "outputId": "78304a82-b202-4ec0-a1c9-744229c012b5"
      },
      "execution_count": null,
      "outputs": [
        {
          "output_type": "stream",
          "name": "stdout",
          "text": [
            "Car starts with a key\n"
          ]
        }
      ]
    },
    {
      "cell_type": "markdown",
      "source": [
        "  - **Encapsulation**\n",
        "    - Encapsulation is the process of wrapping variables (data) and methods (functions) into a single unit (class) and restricting direct access to some components.\n",
        "    - It focus on how the data is hidden and controlled inside the class.\n",
        "    - In Python:\n",
        "       - Done using access modifiers:\n",
        "         - Public (name)\n",
        "         - Protected (_name)\n",
        "         - Private (__name)\n",
        "    - Purpose: Protect data from being directly accessed or modified.\n",
        "    "
      ],
      "metadata": {
        "id": "ozlKRMHrmgIO"
      }
    },
    {
      "cell_type": "code",
      "source": [
        "class BankAccount:\n",
        "    def __init__(self, balance):\n",
        "        self.__balance = balance   # private variable\n",
        "\n",
        "    def deposit(self, amount):\n",
        "        self.__balance += amount\n",
        "\n",
        "    def withdraw(self, amount):\n",
        "        if self.__balance >= amount:\n",
        "            self.__balance -= amount\n",
        "        else:\n",
        "            print(\"Insufficient balance\")\n",
        "\n",
        "    def get_balance(self):\n",
        "        return self.__balance\n",
        "\n",
        "# Usage\n",
        "acc = BankAccount(1000)\n",
        "acc.deposit(500)\n",
        "print(acc.get_balance())  # 1500\n",
        "# print(acc.__balance)    #  Error: can't access private variable\n",
        "\n",
        "#Here, __balance is hidden and can only be accessed through methods, not directly."
      ],
      "metadata": {
        "colab": {
          "base_uri": "https://localhost:8080/"
        },
        "id": "Kl9K1R3Vnmuv",
        "outputId": "6859cee5-3c80-43d4-8e47-bd18ae629225"
      },
      "execution_count": null,
      "outputs": [
        {
          "output_type": "stream",
          "name": "stdout",
          "text": [
            "1500\n"
          ]
        }
      ]
    },
    {
      "cell_type": "markdown",
      "source": [
        "5. What are dunder methods in Python?\n",
        "  - “Dunder” stands for Double UNDERscore.\n",
        "  - Dunder methods (also called magic methods or special methods) are built-in methods in Python that start and end with double underscores, like __init__, __str__, __len__, __add__, etc.\n",
        "  - Purpose: They let you define how your objects behave with Python’s built-in operations (like printing, adding, indexing).\n",
        "  - Example:\n",
        "\n"
      ],
      "metadata": {
        "id": "gfg1UYd4n12Y"
      }
    },
    {
      "cell_type": "code",
      "source": [
        "class Book:\n",
        "    def __init__(self, title, pages):\n",
        "        self.title = title\n",
        "        self.pages = pages\n",
        "\n",
        "    def __str__(self):   # defines string representation\n",
        "        return f\"{self.title} has {self.pages} pages\"\n",
        "\n",
        "    def __len__(self):   # defines behavior of len()\n",
        "        return self.pages\n",
        "\n",
        "b = Book(\"Python Basics\", 200)\n",
        "print(b)        # Python Basics has 200 pages\n",
        "print(len(b))   # 200\n",
        "\n",
        "\n",
        "# Here __str__ and __len__ are dunder methods customizing object behavior."
      ],
      "metadata": {
        "colab": {
          "base_uri": "https://localhost:8080/"
        },
        "id": "wlbQSfhRuTu0",
        "outputId": "cc3ca546-9978-4d81-945d-6fdffdd8f092"
      },
      "execution_count": null,
      "outputs": [
        {
          "output_type": "stream",
          "name": "stdout",
          "text": [
            "Python Basics has 200 pages\n",
            "200\n"
          ]
        }
      ]
    },
    {
      "cell_type": "markdown",
      "source": [
        "6. Explain the concept of inheritance in OOP.\n",
        "  - Inheritance is the process by which one class (child/derived) can use the properties and methods of another class (parent/base).\n",
        "  - Purpose:\n",
        "    - Reusability of code\n",
        "    - Establishes a relationship (IS-A relationship)\n",
        "    - Allows method overriding"
      ],
      "metadata": {
        "id": "Ai1N8XxiudIh"
      }
    },
    {
      "cell_type": "code",
      "source": [
        "class Animal:\n",
        "    def speak(self):\n",
        "        print(\"Animals make sounds\")\n",
        "\n",
        "class Dog(Animal):   # Dog inherits from Animal\n",
        "    def speak(self): # method overriding\n",
        "        print(\"Dog barks\")\n",
        "\n",
        "d = Dog()\n",
        "d.speak()  # Dog barks\n",
        "# Here Dog inherits from Animal but customizes speak()."
      ],
      "metadata": {
        "colab": {
          "base_uri": "https://localhost:8080/"
        },
        "id": "BpIXXBzDu9Y-",
        "outputId": "e19ab373-d696-4bf6-8dec-2f52e4dfa48c"
      },
      "execution_count": null,
      "outputs": [
        {
          "output_type": "stream",
          "name": "stdout",
          "text": [
            "Dog barks\n"
          ]
        }
      ]
    },
    {
      "cell_type": "markdown",
      "source": [
        "7. What is polymorphism in OOP?\n",
        "   - Polymorphism means “many forms”.\n",
        "   - In OOP, it allows the same method name to perform different tasks depending on the object that calls it.\n",
        "   - Types in Python:\n",
        "     - Method Overriding (runtime polymorphism): Same method name, different implementation in subclass.\n",
        "     - Duck Typing: If an object has the required method/attribute, it can be used, regardless of its class."
      ],
      "metadata": {
        "id": "6XcQLaUhvFNH"
      }
    },
    {
      "cell_type": "code",
      "source": [
        "class Bird:\n",
        "    def fly(self):\n",
        "        print(\"Some birds can fly\")\n",
        "\n",
        "class Eagle(Bird):\n",
        "    def fly(self):\n",
        "        print(\"Eagle flies high\")\n",
        "\n",
        "class Penguin(Bird):\n",
        "    def fly(self):\n",
        "        print(\"Penguin cannot fly\")\n",
        "\n",
        "for bird in [Eagle(), Penguin()]:\n",
        "    bird.fly()\n",
        "#Output changes based on the object type, though the method name is the same."
      ],
      "metadata": {
        "colab": {
          "base_uri": "https://localhost:8080/"
        },
        "id": "83ERNC3ivq3G",
        "outputId": "b9855cd2-83f7-4836-b811-0f45e08423d1"
      },
      "execution_count": null,
      "outputs": [
        {
          "output_type": "stream",
          "name": "stdout",
          "text": [
            "Eagle flies high\n",
            "Penguin cannot fly\n"
          ]
        }
      ]
    },
    {
      "cell_type": "markdown",
      "source": [
        "8. How is encapsulation achieved in Python?\n",
        "  - Encapsulation means binding data (variables) and methods (functions) together in a class and restricting direct access to data.\n",
        "  - In Python:\n",
        "    - By using access modifiers:\n",
        "    - Public: No underscore → accessible everywhere (self.name)\n",
        "    - Protected: One underscore _name → convention for “internal use”\n",
        "    - Private: Two underscores __name → name mangling prevents direct access"
      ],
      "metadata": {
        "id": "2MZ2xhhIvxS9"
      }
    },
    {
      "cell_type": "code",
      "source": [
        "class BankAccount:\n",
        "    def __init__(self, balance):\n",
        "        self.__balance = balance   # private attribute\n",
        "\n",
        "    def deposit(self, amount):\n",
        "        self.__balance += amount\n",
        "\n",
        "    def get_balance(self):\n",
        "        return self.__balance\n",
        "\n",
        "acc = BankAccount(1000)\n",
        "acc.deposit(500)\n",
        "print(acc.get_balance())   # 1500\n",
        "# print(acc.__balance)     #  Error: can't access directly\n",
        "\n",
        "# Data (__balance) is hidden, access is only through methods."
      ],
      "metadata": {
        "colab": {
          "base_uri": "https://localhost:8080/"
        },
        "id": "2qkvRBIVwC62",
        "outputId": "6a90f5d4-18fd-40f1-ce2c-f238b4d13c5d"
      },
      "execution_count": null,
      "outputs": [
        {
          "output_type": "stream",
          "name": "stdout",
          "text": [
            "1500\n"
          ]
        }
      ]
    },
    {
      "cell_type": "markdown",
      "source": [
        "9. What is a constructor in Python?\n",
        "   - A constructor is a special method in a class that automatically runs when you create an object.\n",
        "   - In Python, the constructor is defined using the __init__ dunder method.\n",
        "   - Purpose: Initialize object attributes.\n",
        "   - Example:\n",
        "\n"
      ],
      "metadata": {
        "id": "3DrrNddLwOE0"
      }
    },
    {
      "cell_type": "code",
      "source": [
        "class Student:\n",
        "    def __init__(self, name, age):  # constructor\n",
        "        self.name = name\n",
        "        self.age = age\n",
        "\n",
        "s1 = Student(\"Alice\", 20)\n",
        "print(s1.name, s1.age)  # Alice 20"
      ],
      "metadata": {
        "colab": {
          "base_uri": "https://localhost:8080/"
        },
        "id": "vtnEr4ZT57kM",
        "outputId": "f11ce0e3-b77e-45fa-c862-36455e07e09b"
      },
      "execution_count": null,
      "outputs": [
        {
          "output_type": "stream",
          "name": "stdout",
          "text": [
            "Alice 20\n"
          ]
        }
      ]
    },
    {
      "cell_type": "markdown",
      "source": [
        "10. What are class and static methods in Python?\n",
        "  - Both are special types of methods in Python, defined with decorators.\n",
        "  - Class Method\n",
        "    - Defined with @classmethod.\n",
        "    - Takes cls as the first parameter (not self).\n",
        "    - Can access/modify class-level variables, not just object attributes.\n",
        "  - Static Method\n",
        "    - Defined with @staticmethod.\n",
        "    - Does not take self or cls as parameter.\n",
        "    - Behaves like a normal function but lives inside a class (logical grouping).\n"
      ],
      "metadata": {
        "id": "zRAbVUIu5_rX"
      }
    },
    {
      "cell_type": "code",
      "source": [
        "#Class method\n",
        "class Student:\n",
        "    school = \"ABC School\"\n",
        "\n",
        "    @classmethod\n",
        "    def change_school(cls, new_name):\n",
        "        cls.school = new_name\n",
        "\n",
        "Student.change_school(\"XYZ School\")\n",
        "print(Student.school)  # XYZ School\n",
        "\n",
        "\n",
        "#static method\n",
        "\n",
        "class Math:\n",
        "    @staticmethod\n",
        "    def add(a, b):\n",
        "        return a + b\n",
        "\n",
        "print(Math.add(5, 3))  # 8"
      ],
      "metadata": {
        "colab": {
          "base_uri": "https://localhost:8080/"
        },
        "id": "JZTzQBWK6ZvB",
        "outputId": "a443748e-febb-45c6-8ece-375aa45b804f"
      },
      "execution_count": null,
      "outputs": [
        {
          "output_type": "stream",
          "name": "stdout",
          "text": [
            "XYZ School\n",
            "8\n"
          ]
        }
      ]
    },
    {
      "cell_type": "markdown",
      "source": [
        "11. What is method overloading in Python?\n",
        "  - Same method name with different arguments.\n",
        "  - In many language, define multiple methods with the same name but different parameters.\n",
        "  - In Python, true overloading is not supported.\n",
        "  - Instead, achieve it with default arguments or *args.\n",
        "  - Example:\n"
      ],
      "metadata": {
        "id": "16AVfODo6q73"
      }
    },
    {
      "cell_type": "code",
      "source": [
        "class Calculator:\n",
        "    def add(self, a, b=0, c=0):  # default arguments\n",
        "        return a + b + c\n",
        "\n",
        "calc = Calculator()\n",
        "print(calc.add(5))       # 5\n",
        "print(calc.add(5, 10))   # 15\n",
        "print(calc.add(5, 10, 15)) # 30"
      ],
      "metadata": {
        "colab": {
          "base_uri": "https://localhost:8080/"
        },
        "id": "Tsijy-xP66vH",
        "outputId": "9ecf4ae8-3779-4eb6-8cfc-513ab707af36"
      },
      "execution_count": null,
      "outputs": [
        {
          "output_type": "stream",
          "name": "stdout",
          "text": [
            "5\n",
            "15\n",
            "30\n"
          ]
        }
      ]
    },
    {
      "cell_type": "markdown",
      "source": [
        "12. What is method overriding in OOP?\n",
        "  - When a subclass provides a new implementation for a method that is already defined in its superclass.\n",
        "  - Happens at runtime (runtime polymorphism).\n",
        "  - Example:\n",
        "\n"
      ],
      "metadata": {
        "id": "x0RPadCi7QFC"
      }
    },
    {
      "cell_type": "code",
      "source": [
        "class Animal:\n",
        "    def sound(self):\n",
        "        print(\"Animals make sound\")\n",
        "\n",
        "class Dog(Animal):\n",
        "    def sound(self):  # overriding\n",
        "        print(\"Dog barks\")\n",
        "\n",
        "d = Dog()\n",
        "d.sound()  # Dog barks"
      ],
      "metadata": {
        "colab": {
          "base_uri": "https://localhost:8080/"
        },
        "id": "mEmca8DX7io-",
        "outputId": "98332d05-10f2-427d-f0a0-b4272a895ed6"
      },
      "execution_count": null,
      "outputs": [
        {
          "output_type": "stream",
          "name": "stdout",
          "text": [
            "Dog barks\n"
          ]
        }
      ]
    },
    {
      "cell_type": "markdown",
      "source": [
        "13. What is a property decorator in Python?\n",
        "  - @property decorator is a built-in decorator in Python which is helpful in defining the properties effortlessly without manually calling the inbuilt function property().\n",
        "  - Which is used to return the property attributes of a class from the stated getter, setter and deleter as parameters.\n",
        "  - Example\n",
        "  "
      ],
      "metadata": {
        "id": "_ZOGluSg7kJY"
      }
    },
    {
      "cell_type": "code",
      "source": [
        "class Employee:\n",
        "    def __init__(self, salary):\n",
        "        self.__salary = salary\n",
        "\n",
        "    @property\n",
        "    def salary(self):   # getter\n",
        "        return self.__salary\n",
        "\n",
        "    @salary.setter\n",
        "    def salary(self, value):  # setter\n",
        "        if value > 0:\n",
        "            self.__salary = value\n",
        "        else:\n",
        "            print(\"Invalid salary\")\n",
        "\n",
        "emp = Employee(5000)\n",
        "print(emp.salary)   # accessing like attribute, not method\n",
        "emp.salary = 7000   # uses setter\n",
        "print(emp.salary)   # 7000\n"
      ],
      "metadata": {
        "colab": {
          "base_uri": "https://localhost:8080/"
        },
        "id": "5apOwAyP79-4",
        "outputId": "f72947f4-5065-48a9-efc4-ee9cc34ca600"
      },
      "execution_count": null,
      "outputs": [
        {
          "output_type": "stream",
          "name": "stdout",
          "text": [
            "5000\n",
            "7000\n"
          ]
        }
      ]
    },
    {
      "cell_type": "markdown",
      "source": [
        "14. Why is polymorphism important in OOP?\n",
        "  - Polymorphism is the ability of any data to be processed in more than one form. The word itself indicates the meaning as poly means many and morphism means types.\n",
        "  - Polymorphism is one of the most important concepts of object-oriented programming languages.\n",
        "  - Decouples code from specific types: You write code to an interface (method names), not to concrete classes.\n",
        "  - Extensibility: Add new classes that implement the same methods without changing existing code.\n",
        "  - Supports the Liskov Substitution Principle (LSP): you can substitute subclass objects wherever base class objects are expected.\n",
        "  - Cleaner, more maintainable code — common processing logic can handle many types."
      ],
      "metadata": {
        "id": "Mkdghdgf8AvC"
      }
    },
    {
      "cell_type": "markdown",
      "source": [
        "15. What is an abstract class in Python?\n",
        "  - an abstract class is a class that cannot be instantiated on its own and is designed to be a blueprint for other classes.\n",
        "  - Abstract classes allow us to define methods that must be implemented by subclasses, ensuring a consistent interface while still allowing the subclasses to provide specific implementations.\n",
        "  - Abstract classes are useful when you want to:\n",
        "    - Define a common interface for all subclasses (e.g., all animals must have a sound()).\n",
        "    - Enforce implementation of certain methods in child classes.\n",
        "    - Provide shared functionality (concrete methods) while still requiring subclasses to implement specific behavior."
      ],
      "metadata": {
        "id": "2l9Vp7fLJvk4"
      }
    },
    {
      "cell_type": "markdown",
      "source": [
        "16. What are the advantages of OOP?\n",
        "  - OOP stands for Object-Oriented Programming. As you can guess from it's name it breaks the program on the basis of the objects in it.\n",
        "  - It mainly works on Class, Object, Polymorphism, Abstraction, Encapsulation and Inheritance. Its aim is to bind together the data and functions to operate on them.\n",
        "  - The advantages are:-\n",
        "    - We can build the programs from standard working modules that communicate with one another, rather than having to start writing the code from scratch which leads to saving of development time and higher productivity.\n",
        "    - OOP language allows to break the program into the bit-sized problems that can be solved easily (one object at a time).\n",
        "    - The new technology promises greater programmer productivity, better quality of software and lesser maintenance cost.\n",
        "    - OOP systems can be easily upgraded from small to large systems.\n",
        "    - It is possible that multiple instances of objects co-exist without any interference,\n",
        "    - It is very easy to partition the work in a project based on objects.\n",
        "    - It is possible to map the objects in problem domain to those in the program.\n",
        "    - The principle of data hiding helps the programmer to build secure programs which cannot be invaded by the code in other parts of the program.\n",
        "    - By using inheritance, we can eliminate redundant code and extend the use of existing classes.\n",
        "    - Message passing techniques is used for communication between objects which makes the interface descriptions with external systems much simpler.\n",
        "    - The data-centered design approach enables us to capture more details of model in an implementable form."
      ],
      "metadata": {
        "id": "FU2cwuyjKOut"
      }
    },
    {
      "cell_type": "markdown",
      "source": [
        "17. Difference between a class variable and an instance variable in Python.\n",
        "  - **Instance Variable:**\n",
        "    - It is basically a class variable without a static modifier and is usually shared by all class instances.\n",
        "    -  Across different objects, these variables can have different values. -\n",
        "    - They are tied to a particular object instance of the class, therefore, the contents of an instance variable are totally independent of one object instance to others.\n",
        "    - It is a variable whose value is instance-specific and now shared among instances.  \n",
        "    - These variables cannot be shared between classes. Instead, they only belong to one specific class.  \n",
        "    - It usually reserves memory for data that the class needs.  \n",
        "    - It is generally created when an instance of the class is created.  \n",
        "    - It normally retains values as long as the object exists.  \n",
        "    - It has many copies so every object has its own personal copy of the instance variable.\n",
        "    - It can be accessed directly by calling variable names inside the class.  \n",
        "    - These variables are declared without using the static keyword.  \n",
        "    - Changes that are made to these variables through one object will not reflect in another object.  \n",
        "  - **Class Variable:**\n",
        "    - It is basically a static variable that can be declared anywhere at class level with static.\n",
        "    - Across different objects, these variables can have only one value. These variables are not tied to any particular object of the class, therefore, can share across all objects of the class.\n",
        "    - It is a variable that defines a specific attribute or property for a class.  \n",
        "    - These variables can be shared between class and its subclasses.\n",
        "    - It usually maintains a single shared value for all instances of class even if no instance object of the class exists.  \n",
        "    - It is generally created when the program begins to execute.  \n",
        "    - It normally retains values until the program terminates.\n",
        "    - It has only one copy of the class variable so it is shared among different objects of the class.  \n",
        "    - It can be accessed by calling with the class name.  \n",
        "    - These variables are declared using the keyword static.  \n",
        "    - Changes that are made to these variables through one object will reflect in another object."
      ],
      "metadata": {
        "id": "oPOHslOhLhIL"
      }
    },
    {
      "cell_type": "markdown",
      "source": [
        "18. What is multiple inheritance in Python?\n",
        "  - Inheritance is the mechanism to achieve the re-usability of code as one class(child class) can derive the properties of another class(parent class).\n",
        "  - It also provides transitivity ie. if class C inherits from P then all the sub-classes of C would also inherit from P.\n",
        "  - Multiple Inheritance is when a class is derived from more than one base class it is called multiple Inheritance.\n",
        "  - The derived class inherits all the features of the base case."
      ],
      "metadata": {
        "id": "TlWqlJxvO_oi"
      }
    },
    {
      "cell_type": "markdown",
      "source": [
        "19. Explain the purpose of ‘’__str__’ and ‘__repr__’ ‘ methods in Python\n",
        "  - __str__ (User-friendly string representation):\n",
        "  - Used to return a human-readable string of the object (like print() output).\n",
        "  - Focus on readability."
      ],
      "metadata": {
        "id": "kQINPw36PYUu"
      }
    },
    {
      "cell_type": "code",
      "source": [
        "class Student:\n",
        "    def __init__(self, name, age):\n",
        "        self.name = name\n",
        "        self.age = age\n",
        "\n",
        "    def __str__(self):\n",
        "        return f\"Student(name={self.name}, age={self.age})\"\n",
        "\n",
        "s = Student(\"Anjel\", 25)\n",
        "print(s)   # Student(name=Anjel, age=25)\n"
      ],
      "metadata": {
        "colab": {
          "base_uri": "https://localhost:8080/"
        },
        "id": "HNc1ZHZuP3Sc",
        "outputId": "ec7519ad-0a62-4879-f9ad-67c2031d352a"
      },
      "execution_count": 15,
      "outputs": [
        {
          "output_type": "stream",
          "name": "stdout",
          "text": [
            "Student(name=Anjel, age=25)\n"
          ]
        }
      ]
    },
    {
      "cell_type": "markdown",
      "source": [
        " - __repr__ (Developer/debug string representation):\n",
        " - Returns a technical, unambiguous string mainly for debugging.\n",
        " - Should ideally be a valid Python expression to recreate the object."
      ],
      "metadata": {
        "id": "aDEnOl4BP-FM"
      }
    },
    {
      "cell_type": "code",
      "source": [
        "class Student:\n",
        "    def __init__(self, name, age):\n",
        "        self.name = name\n",
        "        self.age = age\n",
        "\n",
        "    def __repr__(self):\n",
        "        return f\"Student('{self.name}', {self.age})\"\n",
        "\n",
        "# Example usage\n",
        "s1 = Student(\"Anjel\", 25)\n",
        "print(s1)          # Student('Anjel', 25)\n",
        "print(repr(s1))    # Student('Anjel', 25)\n"
      ],
      "metadata": {
        "colab": {
          "base_uri": "https://localhost:8080/"
        },
        "id": "FM-o8rORQE7E",
        "outputId": "2612e191-0336-426b-f15d-2404fa4a4ade"
      },
      "execution_count": 18,
      "outputs": [
        {
          "output_type": "stream",
          "name": "stdout",
          "text": [
            "Student('Anjel', 25)\n",
            "Student('Anjel', 25)\n"
          ]
        }
      ]
    },
    {
      "cell_type": "markdown",
      "source": [
        "20. What is the significance of the ‘super()’ function in Python?\n",
        "  - In Python, the super() function is used to call methods from a parent (superclass) inside a child (subclass).\n",
        "  -  It allows you to extend or override inherited methods while still reusing the parent’s functionality.\n",
        "  - why it use\n",
        "    - No need to hardcode parent class names - useful when class hierarchies change.\n",
        "    - Works with single, multiple, and multilevel inheritance.\n",
        "    - Improves code reusability and maintainability.\n",
        "    - Prevents duplicate initialization in complex hierarchies."
      ],
      "metadata": {
        "id": "jbZCb2GUQfs9"
      }
    },
    {
      "cell_type": "markdown",
      "source": [
        "21. What is the significance of the __del__ method in Python?\n",
        "   - The __del__ method is a special method in Python that is called when an object is about to be destroyed.\n",
        "   - It allows you to define specific cleanup actions that should be taken when an object is garbage collected.\n",
        "   - This method can be particularly useful for releasing external resources such as file handles, network connections, or database connections that the object may hold.\n",
        "   - The __del__ method is used to define the actions that should be performed before an object is destroyed. This can include releasing external resources such as files or database connections associated with the object.\n",
        "   - When Python's garbage collector identifies that an object is no longer referenced by any part of the program, it schedules the __del__ method of that object to be called before reclaiming its memory.\n",
        "   - The __del__ method is defined using the following syntax."
      ],
      "metadata": {
        "id": "I4j4pJofREdu"
      }
    },
    {
      "cell_type": "markdown",
      "source": [
        "22. What is the difference between @staticmethod and @classmethod in Python?\n",
        "  - **Class Method**\n",
        "    - The @classmethod decorator is a built-in function decorator that is an expression that gets evaluated after your function is defined.\n",
        "    - The result of that evaluation shadows your function definition.\n",
        "    - A class method receives the class as an implicit first argument, just like an instance method receives the instance.\n",
        "    - A class method is a method that is bound to the class and not the object of the class.\n",
        "    - They have the access to the state of the class as it takes a class parameter that points to the class and not the object instance.\n",
        "    - It can modify a class state that would apply across all the instances of the class.\n",
        "    - For example, it can modify a class variable that will be applicable to all the instances.\n",
        "\n",
        "  - **Static Method**\n",
        "    - A static method does not receive an implicit first argument. A static method is also a method that is bound to the class and not the object of the class.\n",
        "    - This method can't access or modify the class state. It is present in a class because it makes sense for the method to be present in class."
      ],
      "metadata": {
        "id": "oodMAdSBRlnz"
      }
    },
    {
      "cell_type": "markdown",
      "source": [
        "23. How does polymorphism work in Python with inheritance?\n",
        "  - Polymorphism in Python with inheritance means that the same method name can be defined in a parent class and redefined (overridden) in child classes, but when the method is called, the behavior depends on the type of object that is calling it.\n",
        "  - In other words, the method that gets executed is determined at runtime based on the object instance, not the reference type.\n",
        "  - For example, if a parent class defines a method and its child classes override that method with their own implementations, then calling the method on objects of different classes will produce different results, even though the method name is the same.\n",
        "  - This allows a single interface (the common method name) to be used for different underlying forms (the specific implementation in each subclass).\n",
        "  - This makes code more flexible and extensible, since functions or loops can work with different subclasses through the same interface, without needing to know the exact type of object in advance."
      ],
      "metadata": {
        "id": "umq3_9ioSbEq"
      }
    },
    {
      "cell_type": "markdown",
      "source": [
        "24. What is method chaining in Python OOP?\n",
        "  - Method chaining is a powerful technique in Python programming that allows us to call multiple methods on an object in a single, continuous line of code.\n",
        "  -  This approach makes the code cleaner, more readable, and often easier to maintain. It is frequently used in data processing, object-oriented programming, and frameworks such as Pandas, Django ORM, and Flask."
      ],
      "metadata": {
        "id": "m3K6CjnYS20W"
      }
    },
    {
      "cell_type": "code",
      "source": [
        "text = \" hello, gfg! \"\n",
        "result = text.strip().capitalize().replace(\"gfg\", \"How are you\")\n",
        "print(result)"
      ],
      "metadata": {
        "colab": {
          "base_uri": "https://localhost:8080/"
        },
        "id": "ek-oyLW-TPHk",
        "outputId": "0782b300-108b-4f28-e228-c64a475b2fb2"
      },
      "execution_count": 21,
      "outputs": [
        {
          "output_type": "stream",
          "name": "stdout",
          "text": [
            "Hello, How are you!\n"
          ]
        }
      ]
    },
    {
      "cell_type": "markdown",
      "source": [
        "25. What is the purpose of the __call__ method in Python?\n",
        "   - Python has a set of built-in methods and __call__ is one of them.\n",
        "   - The __call__ method enables Python programmers to write classes where the instances behave like functions and can be called like a function.\n",
        "   - When this method is defined, calling an object (obj(arg1, arg2)) automatically triggers obj.__call__(arg1, arg2).\n",
        "   - This makes objects behave like functions, enabling more flexible and reusable code.\n",
        "   - Makes an object callable like a function.\n",
        "   - Useful for creating function-like objects, decorators, or function wrappers."
      ],
      "metadata": {
        "id": "ybQhHCDaTbQW"
      }
    },
    {
      "cell_type": "markdown",
      "source": [
        "# Practical Questions"
      ],
      "metadata": {
        "id": "kWPQ6u7PTz2t"
      }
    },
    {
      "cell_type": "markdown",
      "source": [
        "1. Create a parent class Animal with a method speak() that prints a generic message. Create a child class Dog that overrides the speak() method to print \"Bark!\"."
      ],
      "metadata": {
        "id": "hX_yuP5PT5KU"
      }
    },
    {
      "cell_type": "code",
      "source": [
        "# Parent class\n",
        "class Animal:\n",
        "    def speak(self):\n",
        "        print(\"This animal makes a sound.\")\n",
        "\n",
        "# Child class\n",
        "class Dog(Animal):\n",
        "    def speak(self):\n",
        "        print(\"Bark!\")\n",
        "\n",
        "# Example\n",
        "a = Animal()\n",
        "a.speak()\n",
        "\n",
        "d = Dog()\n",
        "d.speak()\n"
      ],
      "metadata": {
        "colab": {
          "base_uri": "https://localhost:8080/"
        },
        "id": "PyDwGdViT9um",
        "outputId": "cf4b6a88-9dbc-42da-ad1c-524efbd9381c"
      },
      "execution_count": 22,
      "outputs": [
        {
          "output_type": "stream",
          "name": "stdout",
          "text": [
            "This animal makes a sound.\n",
            "Bark!\n"
          ]
        }
      ]
    },
    {
      "cell_type": "markdown",
      "source": [
        "2. Write a program to create an abstract class Shape with a method area(). Derive classes Circle and Rectangle from it and implement the area() method in both."
      ],
      "metadata": {
        "id": "mVqxus2QUMMj"
      }
    },
    {
      "cell_type": "code",
      "source": [
        "from abc import ABC, abstractmethod\n",
        "import math\n",
        "\n",
        "# Abstract class\n",
        "class Shape(ABC):\n",
        "    @abstractmethod\n",
        "    def area(self):\n",
        "        pass  # Abstract method, must be implemented in child classes\n",
        "\n",
        "# Child class: Circle\n",
        "class Circle(Shape):\n",
        "    def __init__(self, radius):\n",
        "        self.radius = radius\n",
        "\n",
        "    def area(self):\n",
        "        return math.pi * self.radius ** 2\n",
        "\n",
        "# Child class: Rectangle\n",
        "class Rectangle(Shape):\n",
        "    def __init__(self, length, width):\n",
        "        self.length = length\n",
        "        self.width = width\n",
        "\n",
        "    def area(self):\n",
        "        return self.length * self.width\n",
        "\n",
        "# Example\n",
        "c = Circle(5)\n",
        "r = Rectangle(4, 6)\n",
        "\n",
        "print(f\"Circle area: {c.area():.2f}\")\n",
        "print(f\"Rectangle area: {r.area():.2f}\")\n"
      ],
      "metadata": {
        "colab": {
          "base_uri": "https://localhost:8080/"
        },
        "id": "HC-9SZF1UPmU",
        "outputId": "69b7770d-987b-4ed3-8e21-8578efe7bb2b"
      },
      "execution_count": 23,
      "outputs": [
        {
          "output_type": "stream",
          "name": "stdout",
          "text": [
            "Circle area: 78.54\n",
            "Rectangle area: 24.00\n"
          ]
        }
      ]
    },
    {
      "cell_type": "markdown",
      "source": [
        "3.  Implement a multi-level inheritance scenario where a class Vehicle has an attribute type. Derive a class Car and further derive a class ElectricCar that adds a battery attribute."
      ],
      "metadata": {
        "id": "4oZcugc0U47c"
      }
    },
    {
      "cell_type": "code",
      "source": [
        "# Base class\n",
        "class Vehicle:\n",
        "    def __init__(self, vehicle_type):\n",
        "        self.vehicle_type = vehicle_type\n",
        "\n",
        "    def display_type(self):\n",
        "        print(f\"Vehicle type: {self.vehicle_type}\")\n",
        "\n",
        "# Derived class\n",
        "class Car(Vehicle):\n",
        "    def __init__(self, vehicle_type, model):\n",
        "        super().__init__(vehicle_type)  # Call Vehicle's constructor\n",
        "        self.model = model\n",
        "\n",
        "    def display_model(self):\n",
        "        print(f\"Car model: {self.model}\")\n",
        "\n",
        "# Derived class from Car\n",
        "class ElectricCar(Car):\n",
        "    def __init__(self, vehicle_type, model, battery):\n",
        "        super().__init__(vehicle_type, model)  # Call Car's constructor\n",
        "        self.battery = battery\n",
        "\n",
        "    def display_battery(self):\n",
        "        print(f\"Battery capacity: {self.battery} kWh\")\n",
        "\n",
        "# Example\n",
        "ev = ElectricCar(\"Automobile\", \"Tesla Model S\", 100)\n",
        "ev.display_type()\n",
        "ev.display_model()\n",
        "ev.display_battery()"
      ],
      "metadata": {
        "colab": {
          "base_uri": "https://localhost:8080/"
        },
        "id": "GyFQu3tNU8rH",
        "outputId": "5395def3-2c7f-4cbf-8365-f69412e8ef07"
      },
      "execution_count": 24,
      "outputs": [
        {
          "output_type": "stream",
          "name": "stdout",
          "text": [
            "Vehicle type: Automobile\n",
            "Car model: Tesla Model S\n",
            "Battery capacity: 100 kWh\n"
          ]
        }
      ]
    },
    {
      "cell_type": "markdown",
      "source": [
        "4. Demonstrate polymorphism by creating a base class Bird with a method fly(). Create two derived classes Sparrow and Penguin that override the fly() method."
      ],
      "metadata": {
        "id": "ha-dMiKoVRN6"
      }
    },
    {
      "cell_type": "code",
      "source": [
        "# Base class\n",
        "class Bird:\n",
        "    def fly(self):\n",
        "        print(\"This bird can fly in some way.\")\n",
        "\n",
        "# Derived class 1\n",
        "class Sparrow(Bird):\n",
        "    def fly(self):\n",
        "        print(\"Eagles flies high in the sky!\")\n",
        "\n",
        "# Derived class 2\n",
        "class Penguin(Bird):\n",
        "    def fly(self):\n",
        "        print(\"Penguins cannot fly, they swim instead.\")\n",
        "\n",
        "# Example\n",
        "birds = [Sparrow(), Penguin(), Bird()]\n",
        "\n",
        "for bird in birds:\n",
        "    bird.fly()\n"
      ],
      "metadata": {
        "colab": {
          "base_uri": "https://localhost:8080/"
        },
        "id": "DvDyxpkhVVpd",
        "outputId": "2f3d5135-3ca4-48c3-c38d-874aba8fba39"
      },
      "execution_count": 26,
      "outputs": [
        {
          "output_type": "stream",
          "name": "stdout",
          "text": [
            "Eagles flies high in the sky!\n",
            "Penguins cannot fly, they swim instead.\n",
            "This bird can fly in some way.\n"
          ]
        }
      ]
    },
    {
      "cell_type": "markdown",
      "source": [
        "5. Write a program to demonstrate encapsulation by creating a class BankAccount with private attributes balance and methods to deposit, withdraw, and check balance."
      ],
      "metadata": {
        "id": "2smtfrl0Vnth"
      }
    },
    {
      "cell_type": "code",
      "source": [
        "class BankAccount:\n",
        "    def __init__(self, initial_balance=0):\n",
        "        # Private attribute\n",
        "        self.__balance = initial_balance\n",
        "\n",
        "    # Method to deposit money\n",
        "    def deposit(self, amount):\n",
        "        if amount > 0:\n",
        "            self.__balance += amount\n",
        "            print(f\"Deposited: ${amount}\")\n",
        "        else:\n",
        "            print(\"Deposit amount must be positive.\")\n",
        "\n",
        "    # Method to withdraw money\n",
        "    def withdraw(self, amount):\n",
        "        if amount > 0:\n",
        "            if amount <= self.__balance:\n",
        "                self.__balance -= amount\n",
        "                print(f\"Withdrew: ${amount}\")\n",
        "            else:\n",
        "                print(\"Insufficient balance.\")\n",
        "        else:\n",
        "            print(\"Withdrawal amount must be positive.\")\n",
        "\n",
        "    # Method to check balance\n",
        "    def check_balance(self):\n",
        "        print(f\"Current balance: ${self.__balance}\")\n",
        "\n",
        "\n",
        "# Example\n",
        "account = BankAccount(1000)\n",
        "account.check_balance()\n",
        "account.deposit(500)\n",
        "account.withdraw(200)\n",
        "account.check_balance()"
      ],
      "metadata": {
        "colab": {
          "base_uri": "https://localhost:8080/"
        },
        "id": "1DvQgdmMVoPb",
        "outputId": "2cd110d7-4f59-413b-c6de-71e3f0cfb51a"
      },
      "execution_count": 27,
      "outputs": [
        {
          "output_type": "stream",
          "name": "stdout",
          "text": [
            "Current balance: $1000\n",
            "Deposited: $500\n",
            "Withdrew: $200\n",
            "Current balance: $1300\n"
          ]
        }
      ]
    },
    {
      "cell_type": "markdown",
      "source": [
        "6. Demonstrate runtime polymorphism using a method play() in a base class Instrument. Derive classes Guitar and Piano that implement their own version of play()."
      ],
      "metadata": {
        "id": "8h_Qayr6WDAo"
      }
    },
    {
      "cell_type": "code",
      "source": [
        "# Base class\n",
        "class Instrument:\n",
        "    def play(self):\n",
        "        print(\"Playing some instrument.\")\n",
        "\n",
        "# Derived class 1\n",
        "class Guitar(Instrument):\n",
        "    def play(self):\n",
        "        print(\"Strumming the guitar!\")\n",
        "\n",
        "# Derived class 2\n",
        "class Piano(Instrument):\n",
        "    def play(self):\n",
        "        print(\"Playing the piano!\")\n",
        "\n",
        "# Example\n",
        "instruments = [Guitar(), Piano(), Instrument()]\n",
        "\n",
        "for instrument in instruments:\n",
        "    instrument.play()\n"
      ],
      "metadata": {
        "colab": {
          "base_uri": "https://localhost:8080/"
        },
        "id": "jegsZV6iWDXy",
        "outputId": "2686ec2f-b2af-4a3b-f952-ebbc042e9e3d"
      },
      "execution_count": 28,
      "outputs": [
        {
          "output_type": "stream",
          "name": "stdout",
          "text": [
            "Strumming the guitar!\n",
            "Playing the piano!\n",
            "Playing some instrument.\n"
          ]
        }
      ]
    },
    {
      "cell_type": "markdown",
      "source": [
        "7. Create a class MathOperations with a class method add_numbers() to add two numbers and a static method subtract_numbers() to subtract two numbers."
      ],
      "metadata": {
        "id": "AwyvElYxWOOZ"
      }
    },
    {
      "cell_type": "code",
      "source": [
        "class MathOperations:\n",
        "    # Class method\n",
        "    @classmethod\n",
        "    def add_numbers(cls, a, b):\n",
        "        return a + b\n",
        "\n",
        "    # Static method\n",
        "    @staticmethod\n",
        "    def subtract_numbers(a, b):\n",
        "        return a - b\n",
        "\n",
        "\n",
        "# Example usage\n",
        "sum_result = MathOperations.add_numbers(10, 5)\n",
        "diff_result = MathOperations.subtract_numbers(10, 5)\n",
        "\n",
        "print(f\"Sum: {sum_result}\")\n",
        "print(f\"Difference: {diff_result}\")"
      ],
      "metadata": {
        "colab": {
          "base_uri": "https://localhost:8080/"
        },
        "id": "8DuQ111CWOkU",
        "outputId": "fa832c9a-44ef-47e1-bf8a-f9183f5a106c"
      },
      "execution_count": 29,
      "outputs": [
        {
          "output_type": "stream",
          "name": "stdout",
          "text": [
            "Sum: 15\n",
            "Difference: 5\n"
          ]
        }
      ]
    },
    {
      "cell_type": "markdown",
      "source": [
        "8. Implement a class Person with a class method to count the total number of persons created."
      ],
      "metadata": {
        "id": "O6DFM2AGWdfz"
      }
    },
    {
      "cell_type": "code",
      "source": [
        "class Person:\n",
        "    # Class variable to keep count\n",
        "    total_persons = 0\n",
        "\n",
        "    def __init__(self, name):\n",
        "        self.name = name\n",
        "        Person.total_persons += 1  # Increment count when a new person is added\n",
        "\n",
        "    # Class method to get total number of persons\n",
        "    @classmethod\n",
        "    def get_total_persons(cls):\n",
        "        return cls.total_persons\n",
        "\n",
        "\n",
        "# Example\n",
        "p1 = Person(\"Alice\")\n",
        "p2 = Person(\"Bob\")\n",
        "p3 = Person(\"Charlie\")\n",
        "\n",
        "print(f\"Total persons created: {Person.get_total_persons()}\")"
      ],
      "metadata": {
        "colab": {
          "base_uri": "https://localhost:8080/"
        },
        "id": "1hy1wUJ8Wdun",
        "outputId": "76c42f66-20af-4a74-a474-e681738749b0"
      },
      "execution_count": 30,
      "outputs": [
        {
          "output_type": "stream",
          "name": "stdout",
          "text": [
            "Total persons created: 3\n"
          ]
        }
      ]
    },
    {
      "cell_type": "markdown",
      "source": [
        "9. Write a class Fraction with attributes numerator and denominator. Override the str method to display the fraction as \"numerator/denominator\"."
      ],
      "metadata": {
        "id": "7aoWlUpeWeK4"
      }
    },
    {
      "cell_type": "code",
      "source": [
        "class Fraction:\n",
        "    def __init__(self, numerator, denominator):\n",
        "        self.numerator = numerator\n",
        "        self.denominator = denominator\n",
        "\n",
        "    # Override __str__ to display fraction nicely\n",
        "    def __str__(self):\n",
        "        return f\"{self.numerator}/{self.denominator}\"\n",
        "\n",
        "\n",
        "# Example\n",
        "f1 = Fraction(3, 4)\n",
        "f2 = Fraction(5, 2)\n",
        "\n",
        "print(f1)\n",
        "print(f2)\n"
      ],
      "metadata": {
        "colab": {
          "base_uri": "https://localhost:8080/"
        },
        "id": "rOq1wLwQWede",
        "outputId": "2f0455d3-616b-437e-84e1-95f253711f30"
      },
      "execution_count": 31,
      "outputs": [
        {
          "output_type": "stream",
          "name": "stdout",
          "text": [
            "3/4\n",
            "5/2\n"
          ]
        }
      ]
    },
    {
      "cell_type": "markdown",
      "source": [
        "10. Demonstrate operator overloading by creating a class Vector and overriding the add method to add two vectors."
      ],
      "metadata": {
        "id": "vtAWR2wjXFDw"
      }
    },
    {
      "cell_type": "code",
      "source": [
        "class Vector:\n",
        "    def __init__(self, x, y):\n",
        "        self.x = x\n",
        "        self.y = y\n",
        "\n",
        "    # Override + operator\n",
        "    def __add__(self, other):\n",
        "        return Vector(self.x + other.x, self.y + other.y)\n",
        "\n",
        "    # For a user-friendly display\n",
        "    def __str__(self):\n",
        "        return f\"({self.x}, {self.y})\"\n",
        "\n",
        "\n",
        "# Example\n",
        "v1 = Vector(2, 3)\n",
        "v2 = Vector(4, 5)\n",
        "v3 = v1 + v2\n",
        "\n",
        "print(f\"v1: {v1}\")\n",
        "print(f\"v2: {v2}\")\n",
        "print(f\"v1 + v2 = {v3}\")\n"
      ],
      "metadata": {
        "colab": {
          "base_uri": "https://localhost:8080/"
        },
        "id": "JsTgAmbNXFQG",
        "outputId": "d6a015e2-91d8-4734-de79-0c6821ea1ea8"
      },
      "execution_count": 32,
      "outputs": [
        {
          "output_type": "stream",
          "name": "stdout",
          "text": [
            "v1: (2, 3)\n",
            "v2: (4, 5)\n",
            "v1 + v2 = (6, 8)\n"
          ]
        }
      ]
    },
    {
      "cell_type": "markdown",
      "source": [
        "11. Create a class Person with attributes name and age. Add a method greet() that prints \"Hello, my name is {name} and I am {age} years old.\""
      ],
      "metadata": {
        "id": "tJbCUEjHXFb8"
      }
    },
    {
      "cell_type": "code",
      "source": [
        "class Person:\n",
        "    def __init__(self, name, age):\n",
        "        self.name = name\n",
        "        self.age = age\n",
        "\n",
        "    def greet(self):\n",
        "        print(f\"Hello, my name is {self.name} and I am {self.age} years old.\")\n",
        "\n",
        "\n",
        "# Example\n",
        "p1 = Person(\"Alice\", 25)\n",
        "p2 = Person(\"Bob\", 30)\n",
        "\n",
        "p1.greet()\n",
        "p2.greet()\n"
      ],
      "metadata": {
        "colab": {
          "base_uri": "https://localhost:8080/"
        },
        "id": "6Q0gCkzHXFnW",
        "outputId": "a3c4f637-6fa3-40f3-d347-2d2d7cfa49a6"
      },
      "execution_count": 33,
      "outputs": [
        {
          "output_type": "stream",
          "name": "stdout",
          "text": [
            "Hello, my name is Alice and I am 25 years old.\n",
            "Hello, my name is Bob and I am 30 years old.\n"
          ]
        }
      ]
    },
    {
      "cell_type": "markdown",
      "source": [
        "12. Implement a class Student with attributes name and grades. Create a method average_grade() to compute the average of the grades."
      ],
      "metadata": {
        "id": "L_e91Cm0XFzu"
      }
    },
    {
      "cell_type": "code",
      "source": [
        "class Student:\n",
        "    def __init__(self, name, grades):\n",
        "        self.name = name\n",
        "        self.grades = grades  # grades should be a list of numbers\n",
        "\n",
        "    def average_grade(self):\n",
        "        if self.grades:  # Check if grades list is not empty\n",
        "            return sum(self.grades) / len(self.grades)\n",
        "        else:\n",
        "            return 0\n",
        "\n",
        "\n",
        "# Example\n",
        "s1 = Student(\"Aflah\", [85, 90, 78])\n",
        "s2 = Student(\"Varun\", [70, 75, 80, 85])\n",
        "\n",
        "print(f\"{s1.name}'s average grade: {s1.average_grade():.2f}\")\n",
        "print(f\"{s2.name}'s average grade: {s2.average_grade():.2f}\")\n"
      ],
      "metadata": {
        "colab": {
          "base_uri": "https://localhost:8080/"
        },
        "id": "ZAN4RldqXGC6",
        "outputId": "e15ed71f-0a8b-4a8b-c152-1aa721a2b703"
      },
      "execution_count": 35,
      "outputs": [
        {
          "output_type": "stream",
          "name": "stdout",
          "text": [
            "Aflah's average grade: 84.33\n",
            "Varun's average grade: 77.50\n"
          ]
        }
      ]
    },
    {
      "cell_type": "markdown",
      "source": [
        "13. Create a class Rectangle with methods set_dimensions() to set the dimensions and area() to calculate the area."
      ],
      "metadata": {
        "id": "fW14ytSiXmnf"
      }
    },
    {
      "cell_type": "code",
      "source": [
        "class Rectangle:\n",
        "    def __init__(self):\n",
        "        self.length = 0\n",
        "        self.width = 0\n",
        "\n",
        "    # Method to set dimensions\n",
        "    def set_dimensions(self, length, width):\n",
        "        self.length = length\n",
        "        self.width = width\n",
        "\n",
        "    # Method to calculate area\n",
        "    def area(self):\n",
        "        return self.length * self.width\n",
        "\n",
        "\n",
        "# Example\n",
        "rect = Rectangle()\n",
        "rect.set_dimensions(5, 3)\n",
        "print(f\"Rectangle area: {rect.area()}\")\n"
      ],
      "metadata": {
        "colab": {
          "base_uri": "https://localhost:8080/"
        },
        "id": "G0tn0LkDXm0N",
        "outputId": "2bab11de-0738-416c-9310-4f7422b2e5be"
      },
      "execution_count": 36,
      "outputs": [
        {
          "output_type": "stream",
          "name": "stdout",
          "text": [
            "Rectangle area: 15\n"
          ]
        }
      ]
    },
    {
      "cell_type": "markdown",
      "source": [
        "14. Create a class Employee with a method calculate_salary() that computes the salary based on hours worked and hourly rate. Create a derived class Manager that adds a bonus to the salary."
      ],
      "metadata": {
        "id": "h-i0lusnXm_3"
      }
    },
    {
      "cell_type": "code",
      "source": [
        "# Base class\n",
        "class Employee:\n",
        "    def __init__(self, name, hours_worked, hourly_rate):\n",
        "        self.name = name\n",
        "        self.hours_worked = hours_worked\n",
        "        self.hourly_rate = hourly_rate\n",
        "\n",
        "    # Method to calculate salary\n",
        "    def calculate_salary(self):\n",
        "        return self.hours_worked * self.hourly_rate\n",
        "\n",
        "\n",
        "# Derived class\n",
        "class Manager(Employee):\n",
        "    def __init__(self, name, hours_worked, hourly_rate, bonus):\n",
        "        super().__init__(name, hours_worked, hourly_rate)  # Call Employee constructor\n",
        "        self.bonus = bonus\n",
        "\n",
        "    # Override to include bonus\n",
        "    def calculate_salary(self):\n",
        "        base_salary = super().calculate_salary()  # Call Employee's salary calculation\n",
        "        return base_salary + self.bonus\n",
        "\n",
        "\n",
        "# Example usage\n",
        "emp = Employee(\"Alice\", 40, 20)\n",
        "mgr = Manager(\"Bob\", 40, 25, 500)\n",
        "\n",
        "print(f\"{emp.name}'s salary: ${emp.calculate_salary()}\")\n",
        "print(f\"{mgr.name}'s salary: ${mgr.calculate_salary()}\")\n"
      ],
      "metadata": {
        "colab": {
          "base_uri": "https://localhost:8080/"
        },
        "id": "0RkWMJdLXnOA",
        "outputId": "6ff49c7b-3b16-47bc-8c18-87925a633cd2"
      },
      "execution_count": 37,
      "outputs": [
        {
          "output_type": "stream",
          "name": "stdout",
          "text": [
            "Alice's salary: $800\n",
            "Bob's salary: $1500\n"
          ]
        }
      ]
    },
    {
      "cell_type": "markdown",
      "source": [
        "15. Create a class Product with attributes name, price, and quantity. Implement a method total_price() that calculates the total price of the product."
      ],
      "metadata": {
        "id": "2DDMZaPyXncj"
      }
    },
    {
      "cell_type": "code",
      "source": [
        "class Product:\n",
        "    def __init__(self, name, price, quantity):\n",
        "        self.name = name\n",
        "        self.price = price\n",
        "        self.quantity = quantity\n",
        "\n",
        "    # Method to calculate total price\n",
        "    def total_price(self):\n",
        "        return self.price * self.quantity\n",
        "\n",
        "\n",
        "# Example\n",
        "p1 = Product(\"Laptop\", 800, 2)\n",
        "p2 = Product(\"Mouse\", 20, 5)\n",
        "\n",
        "print(f\"{p1.name} total price: ${p1.total_price()}\")\n",
        "print(f\"{p2.name} total price: ${p2.total_price()}\")\n"
      ],
      "metadata": {
        "colab": {
          "base_uri": "https://localhost:8080/"
        },
        "id": "0bNWPMfMXnrR",
        "outputId": "4c0dc058-22b1-4886-f981-5e971d68752a"
      },
      "execution_count": 38,
      "outputs": [
        {
          "output_type": "stream",
          "name": "stdout",
          "text": [
            "Laptop total price: $1600\n",
            "Mouse total price: $100\n"
          ]
        }
      ]
    },
    {
      "cell_type": "markdown",
      "source": [
        "16. Create a class Animal with an abstract method sound(). Create two derived classes Cow and Sheep that implement the sound() method."
      ],
      "metadata": {
        "id": "fP0qCEa-Y5VG"
      }
    },
    {
      "cell_type": "code",
      "source": [
        "from abc import ABC, abstractmethod\n",
        "\n",
        "# Abstract base class\n",
        "class Animal(ABC):\n",
        "    @abstractmethod\n",
        "    def sound(self):\n",
        "        pass\n",
        "# Derived class 1\n",
        "class Cow(Animal):\n",
        "    def sound(self):\n",
        "        print(\"Cow says: Moo!\")\n",
        "\n",
        "# Derived class 2\n",
        "class Sheep(Animal):\n",
        "    def sound(self):\n",
        "        print(\"Sheep says: Baa!\")\n",
        "\n",
        "\n",
        "# Example\n",
        "animals = [Cow(), Sheep()]\n",
        "\n",
        "for animal in animals:\n",
        "    animal.sound()\n"
      ],
      "metadata": {
        "colab": {
          "base_uri": "https://localhost:8080/"
        },
        "id": "AAWQqeQlY5rh",
        "outputId": "5138cb18-4657-4007-9018-1fa7cc4a661f"
      },
      "execution_count": 39,
      "outputs": [
        {
          "output_type": "stream",
          "name": "stdout",
          "text": [
            "Cow says: Moo!\n",
            "Sheep says: Baa!\n"
          ]
        }
      ]
    },
    {
      "cell_type": "markdown",
      "source": [
        "17. Create a class Book with attributes title, author, and year_published. Add a method get_book_info() that returns a formatted string with the book's details."
      ],
      "metadata": {
        "id": "ZdW4bNTTY583"
      }
    },
    {
      "cell_type": "code",
      "source": [
        "class Book:\n",
        "    def __init__(self, title, author, year_published):\n",
        "        self.title = title\n",
        "        self.author = author\n",
        "        self.year_published = year_published\n",
        "\n",
        "    # Method to get book information\n",
        "    def get_book_info(self):\n",
        "        return f\"'{self.title}' by {self.author}, published in {self.year_published}\"\n",
        "\n",
        "\n",
        "# Example\n",
        "book1 = Book(\"A Song of Ice and Fire\", \"George R. R. Martin\", 1991)\n",
        "book2 = Book(\"1984\", \"George Orwell\", 1949)\n",
        "\n",
        "print(book1.get_book_info())\n",
        "print(book2.get_book_info())\n"
      ],
      "metadata": {
        "colab": {
          "base_uri": "https://localhost:8080/"
        },
        "id": "n-CCbwuWY6KE",
        "outputId": "71c58b1e-239b-4774-eacc-b2da9872d807"
      },
      "execution_count": 42,
      "outputs": [
        {
          "output_type": "stream",
          "name": "stdout",
          "text": [
            "'A Song of Ice and Fire' by George R. R. Martin, published in 1991\n",
            "'1984' by George Orwell, published in 1949\n"
          ]
        }
      ]
    },
    {
      "cell_type": "markdown",
      "source": [
        "18. Create a class House with attributes address and price. Create a derived class Mansion that adds an attribute number_of_rooms."
      ],
      "metadata": {
        "id": "L7UZ7X4BY6YS"
      }
    },
    {
      "cell_type": "code",
      "source": [
        "# Base class\n",
        "class House:\n",
        "    def __init__(self, address, price):\n",
        "        self.address = address\n",
        "        self.price = price\n",
        "\n",
        "    def get_info(self):\n",
        "        return f\"House at {self.address}, priced at ${self.price}\"\n",
        "\n",
        "\n",
        "# Derived class\n",
        "class Mansion(House):\n",
        "    def __init__(self, address, price, number_of_rooms):\n",
        "        super().__init__(address, price)  # Call House constructor\n",
        "        self.number_of_rooms = number_of_rooms\n",
        "\n",
        "    def get_info(self):\n",
        "        return f\"Mansion at {self.address}, priced at ${self.price}, with {self.number_of_rooms} rooms\"\n",
        "\n",
        "\n",
        "# Example\n",
        "h1 = House(\"123 Main St\", 250000)\n",
        "m1 = Mansion(\"456 Luxury Ave\", 2000000, 10)\n",
        "\n",
        "print(h1.get_info())\n",
        "print(m1.get_info())\n"
      ],
      "metadata": {
        "colab": {
          "base_uri": "https://localhost:8080/"
        },
        "id": "OfaIPbRtY6mc",
        "outputId": "7e57b6bc-6a4d-4c99-f375-3d3c864dfe0e"
      },
      "execution_count": 43,
      "outputs": [
        {
          "output_type": "stream",
          "name": "stdout",
          "text": [
            "House at 123 Main St, priced at $250000\n",
            "Mansion at 456 Luxury Ave, priced at $2000000, with 10 rooms\n"
          ]
        }
      ]
    }
  ]
}